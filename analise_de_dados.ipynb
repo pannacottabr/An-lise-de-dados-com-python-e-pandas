{
  "nbformat": 4,
  "nbformat_minor": 0,
  "metadata": {
    "colab": {
      "name": "analise_de_dados.ipynb",
      "provenance": [],
      "mount_file_id": "1_hLxkptR7evsCvl4cVlKAg03_oRz1nT-",
      "authorship_tag": "ABX9TyPMNDETlmGUvbJkINsDqVDO",
      "include_colab_link": true
    },
    "kernelspec": {
      "name": "python3",
      "display_name": "Python 3"
    },
    "language_info": {
      "name": "python"
    }
  },
  "cells": [
    {
      "cell_type": "markdown",
      "metadata": {
        "id": "view-in-github",
        "colab_type": "text"
      },
      "source": [
        "<a href=\"https://colab.research.google.com/github/pannacottabr/Analise-de-dados-com-python-e-pandas/blob/master/analise_de_dados.ipynb\" target=\"_parent\"><img src=\"https://colab.research.google.com/assets/colab-badge.svg\" alt=\"Open In Colab\"/></a>"
      ]
    },
    {
      "cell_type": "code",
      "metadata": {
        "id": "5od-lhg7NW2O"
      },
      "source": [
        "#importando biblioteca pandas\n",
        "import pandas as pd\n"
      ],
      "execution_count": null,
      "outputs": []
    },
    {
      "cell_type": "code",
      "metadata": {
        "id": "jGO6Dt-VOIVf"
      },
      "source": [
        "df = pd.read_csv(\"/content/drive/MyDrive/Gapminder.csv\", error_bad_lines=False, sep=\",\")\n"
      ],
      "execution_count": null,
      "outputs": []
    },
    {
      "cell_type": "code",
      "metadata": {
        "colab": {
          "base_uri": "https://localhost:8080/",
          "height": 204
        },
        "id": "DE0V7Xm-SKsm",
        "outputId": "06a28d63-04a0-48fc-a06b-1e9a32d883fe"
      },
      "source": [
        "#visualizando as 5 primeiras linhas\n",
        "df.head()"
      ],
      "execution_count": null,
      "outputs": [
        {
          "output_type": "execute_result",
          "data": {
            "text/html": [
              "<div>\n",
              "<style scoped>\n",
              "    .dataframe tbody tr th:only-of-type {\n",
              "        vertical-align: middle;\n",
              "    }\n",
              "\n",
              "    .dataframe tbody tr th {\n",
              "        vertical-align: top;\n",
              "    }\n",
              "\n",
              "    .dataframe thead th {\n",
              "        text-align: right;\n",
              "    }\n",
              "</style>\n",
              "<table border=\"1\" class=\"dataframe\">\n",
              "  <thead>\n",
              "    <tr style=\"text-align: right;\">\n",
              "      <th></th>\n",
              "      <th>country</th>\n",
              "      <th>continent</th>\n",
              "      <th>year</th>\n",
              "      <th>lifeExp</th>\n",
              "      <th>pop</th>\n",
              "      <th>gdpPercap</th>\n",
              "      <th>Unnamed: 6</th>\n",
              "    </tr>\n",
              "  </thead>\n",
              "  <tbody>\n",
              "    <tr>\n",
              "      <th>0</th>\n",
              "      <td>Afghanistan</td>\n",
              "      <td>Asia</td>\n",
              "      <td>1952</td>\n",
              "      <td>28801.00</td>\n",
              "      <td>8425333.0</td>\n",
              "      <td>779.445314</td>\n",
              "      <td>NaN</td>\n",
              "    </tr>\n",
              "    <tr>\n",
              "      <th>1</th>\n",
              "      <td>Afghanistan</td>\n",
              "      <td>Asia</td>\n",
              "      <td>1957</td>\n",
              "      <td>30332.00</td>\n",
              "      <td>9240934.0</td>\n",
              "      <td>820.853030</td>\n",
              "      <td>NaN</td>\n",
              "    </tr>\n",
              "    <tr>\n",
              "      <th>2</th>\n",
              "      <td>Afghanistan</td>\n",
              "      <td>Asia</td>\n",
              "      <td>1962</td>\n",
              "      <td>31997.00</td>\n",
              "      <td>10267083.0</td>\n",
              "      <td>853.100710</td>\n",
              "      <td>NaN</td>\n",
              "    </tr>\n",
              "    <tr>\n",
              "      <th>3</th>\n",
              "      <td>Afghanistan</td>\n",
              "      <td>Asia</td>\n",
              "      <td>1967</td>\n",
              "      <td>34.02</td>\n",
              "      <td>11537966.0</td>\n",
              "      <td>836.197138</td>\n",
              "      <td>NaN</td>\n",
              "    </tr>\n",
              "    <tr>\n",
              "      <th>4</th>\n",
              "      <td>Afghanistan</td>\n",
              "      <td>Asia</td>\n",
              "      <td>1972</td>\n",
              "      <td>36088.00</td>\n",
              "      <td>13079460.0</td>\n",
              "      <td>739.981106</td>\n",
              "      <td>NaN</td>\n",
              "    </tr>\n",
              "  </tbody>\n",
              "</table>\n",
              "</div>"
            ],
            "text/plain": [
              "       country continent  year   lifeExp         pop   gdpPercap  Unnamed: 6\n",
              "0  Afghanistan      Asia  1952  28801.00   8425333.0  779.445314         NaN\n",
              "1  Afghanistan      Asia  1957  30332.00   9240934.0  820.853030         NaN\n",
              "2  Afghanistan      Asia  1962  31997.00  10267083.0  853.100710         NaN\n",
              "3  Afghanistan      Asia  1967     34.02  11537966.0  836.197138         NaN\n",
              "4  Afghanistan      Asia  1972  36088.00  13079460.0  739.981106         NaN"
            ]
          },
          "metadata": {
            "tags": []
          },
          "execution_count": 12
        }
      ]
    },
    {
      "cell_type": "code",
      "metadata": {
        "id": "elgDJCwOS2Pe"
      },
      "source": [
        "#Renomeando as colunas\n",
        "df = df.rename(columns={\"country\":\"Pais\",\"continent\":\"Continente\",\"year\":\"Ano\",\"lifeExp\":\"Expectativa de vida\",\"pop\":\"Pop total\",\"gdpPercap\":\"PIB\"})"
      ],
      "execution_count": null,
      "outputs": []
    },
    {
      "cell_type": "code",
      "metadata": {
        "colab": {
          "base_uri": "https://localhost:8080/",
          "height": 359
        },
        "id": "9JWjlpvTUdCc",
        "outputId": "f95624b0-551f-495b-ae28-b938049d3527"
      },
      "source": [
        "df.head(10)\n"
      ],
      "execution_count": null,
      "outputs": [
        {
          "output_type": "execute_result",
          "data": {
            "text/html": [
              "<div>\n",
              "<style scoped>\n",
              "    .dataframe tbody tr th:only-of-type {\n",
              "        vertical-align: middle;\n",
              "    }\n",
              "\n",
              "    .dataframe tbody tr th {\n",
              "        vertical-align: top;\n",
              "    }\n",
              "\n",
              "    .dataframe thead th {\n",
              "        text-align: right;\n",
              "    }\n",
              "</style>\n",
              "<table border=\"1\" class=\"dataframe\">\n",
              "  <thead>\n",
              "    <tr style=\"text-align: right;\">\n",
              "      <th></th>\n",
              "      <th>Pais</th>\n",
              "      <th>Continente</th>\n",
              "      <th>Ano</th>\n",
              "      <th>Expectativa de vida</th>\n",
              "      <th>Pop total</th>\n",
              "      <th>PIB</th>\n",
              "      <th>Unnamed: 6</th>\n",
              "    </tr>\n",
              "  </thead>\n",
              "  <tbody>\n",
              "    <tr>\n",
              "      <th>0</th>\n",
              "      <td>Afghanistan</td>\n",
              "      <td>Asia</td>\n",
              "      <td>1952</td>\n",
              "      <td>28801.000</td>\n",
              "      <td>8425333.0</td>\n",
              "      <td>779.445314</td>\n",
              "      <td>NaN</td>\n",
              "    </tr>\n",
              "    <tr>\n",
              "      <th>1</th>\n",
              "      <td>Afghanistan</td>\n",
              "      <td>Asia</td>\n",
              "      <td>1957</td>\n",
              "      <td>30332.000</td>\n",
              "      <td>9240934.0</td>\n",
              "      <td>820.853030</td>\n",
              "      <td>NaN</td>\n",
              "    </tr>\n",
              "    <tr>\n",
              "      <th>2</th>\n",
              "      <td>Afghanistan</td>\n",
              "      <td>Asia</td>\n",
              "      <td>1962</td>\n",
              "      <td>31997.000</td>\n",
              "      <td>10267083.0</td>\n",
              "      <td>853.100710</td>\n",
              "      <td>NaN</td>\n",
              "    </tr>\n",
              "    <tr>\n",
              "      <th>3</th>\n",
              "      <td>Afghanistan</td>\n",
              "      <td>Asia</td>\n",
              "      <td>1967</td>\n",
              "      <td>34.020</td>\n",
              "      <td>11537966.0</td>\n",
              "      <td>836.197138</td>\n",
              "      <td>NaN</td>\n",
              "    </tr>\n",
              "    <tr>\n",
              "      <th>4</th>\n",
              "      <td>Afghanistan</td>\n",
              "      <td>Asia</td>\n",
              "      <td>1972</td>\n",
              "      <td>36088.000</td>\n",
              "      <td>13079460.0</td>\n",
              "      <td>739.981106</td>\n",
              "      <td>NaN</td>\n",
              "    </tr>\n",
              "    <tr>\n",
              "      <th>5</th>\n",
              "      <td>Afghanistan</td>\n",
              "      <td>Asia</td>\n",
              "      <td>1977</td>\n",
              "      <td>38438.000</td>\n",
              "      <td>14880372.0</td>\n",
              "      <td>786.113360</td>\n",
              "      <td>NaN</td>\n",
              "    </tr>\n",
              "    <tr>\n",
              "      <th>6</th>\n",
              "      <td>Afghanistan</td>\n",
              "      <td>Asia</td>\n",
              "      <td>1982</td>\n",
              "      <td>39854.000</td>\n",
              "      <td>12881816.0</td>\n",
              "      <td>978.011439</td>\n",
              "      <td>NaN</td>\n",
              "    </tr>\n",
              "    <tr>\n",
              "      <th>7</th>\n",
              "      <td>Afghanistan</td>\n",
              "      <td>Asia</td>\n",
              "      <td>1987</td>\n",
              "      <td>40822.000</td>\n",
              "      <td>13867957.0</td>\n",
              "      <td>852.395945</td>\n",
              "      <td>NaN</td>\n",
              "    </tr>\n",
              "    <tr>\n",
              "      <th>8</th>\n",
              "      <td>Afghanistan</td>\n",
              "      <td>Asia</td>\n",
              "      <td>1992</td>\n",
              "      <td>41674.000</td>\n",
              "      <td>16317921.0</td>\n",
              "      <td>649.341395</td>\n",
              "      <td>NaN</td>\n",
              "    </tr>\n",
              "    <tr>\n",
              "      <th>9</th>\n",
              "      <td>Afghanistan</td>\n",
              "      <td>Asia</td>\n",
              "      <td>1997</td>\n",
              "      <td>41.763</td>\n",
              "      <td>22227415.0</td>\n",
              "      <td>635.341351</td>\n",
              "      <td>NaN</td>\n",
              "    </tr>\n",
              "  </tbody>\n",
              "</table>\n",
              "</div>"
            ],
            "text/plain": [
              "          Pais Continente   Ano  ...   Pop total         PIB  Unnamed: 6\n",
              "0  Afghanistan       Asia  1952  ...   8425333.0  779.445314         NaN\n",
              "1  Afghanistan       Asia  1957  ...   9240934.0  820.853030         NaN\n",
              "2  Afghanistan       Asia  1962  ...  10267083.0  853.100710         NaN\n",
              "3  Afghanistan       Asia  1967  ...  11537966.0  836.197138         NaN\n",
              "4  Afghanistan       Asia  1972  ...  13079460.0  739.981106         NaN\n",
              "5  Afghanistan       Asia  1977  ...  14880372.0  786.113360         NaN\n",
              "6  Afghanistan       Asia  1982  ...  12881816.0  978.011439         NaN\n",
              "7  Afghanistan       Asia  1987  ...  13867957.0  852.395945         NaN\n",
              "8  Afghanistan       Asia  1992  ...  16317921.0  649.341395         NaN\n",
              "9  Afghanistan       Asia  1997  ...  22227415.0  635.341351         NaN\n",
              "\n",
              "[10 rows x 7 columns]"
            ]
          },
          "metadata": {
            "tags": []
          },
          "execution_count": 21
        }
      ]
    },
    {
      "cell_type": "code",
      "metadata": {
        "colab": {
          "base_uri": "https://localhost:8080/"
        },
        "id": "T5abj4eqUztC",
        "outputId": "2e77611b-f3e8-43a1-a2bc-e5321d4dc74f"
      },
      "source": [
        "#total de linhas e colunas\n",
        "df.shape"
      ],
      "execution_count": null,
      "outputs": [
        {
          "output_type": "execute_result",
          "data": {
            "text/plain": [
              "(3312, 7)"
            ]
          },
          "metadata": {
            "tags": []
          },
          "execution_count": 22
        }
      ]
    },
    {
      "cell_type": "code",
      "metadata": {
        "colab": {
          "base_uri": "https://localhost:8080/"
        },
        "id": "Tb9HFB_3U7TU",
        "outputId": "ae653d09-8927-4c5c-c917-6bc6d2b330a9"
      },
      "source": [
        "df.columns"
      ],
      "execution_count": null,
      "outputs": [
        {
          "output_type": "execute_result",
          "data": {
            "text/plain": [
              "Index(['Pais', 'Continente', 'Ano', 'Expectativa de vida', 'Pop total', 'PIB',\n",
              "       'Unnamed: 6'],\n",
              "      dtype='object')"
            ]
          },
          "metadata": {
            "tags": []
          },
          "execution_count": 23
        }
      ]
    },
    {
      "cell_type": "code",
      "metadata": {
        "colab": {
          "base_uri": "https://localhost:8080/"
        },
        "id": "1RcY0z-rVKDa",
        "outputId": "e8cbafbb-7e18-4d28-e37b-cb5b0b58e8bd"
      },
      "source": [
        "#Verificando o tipo\n",
        "df.dtypes"
      ],
      "execution_count": null,
      "outputs": [
        {
          "output_type": "execute_result",
          "data": {
            "text/plain": [
              "Pais                    object\n",
              "Continente              object\n",
              "Ano                     object\n",
              "Expectativa de vida    float64\n",
              "Pop total              float64\n",
              "PIB                    float64\n",
              "Unnamed: 6             float64\n",
              "dtype: object"
            ]
          },
          "metadata": {
            "tags": []
          },
          "execution_count": 27
        }
      ]
    },
    {
      "cell_type": "code",
      "metadata": {
        "colab": {
          "base_uri": "https://localhost:8080/",
          "height": 204
        },
        "id": "Fo4bYbTrVQYw",
        "outputId": "42283cb6-f7c9-4bcc-ed40-1da84db7a69a"
      },
      "source": [
        "#Exibindo cinco últimas linhas\n",
        "df.tail()"
      ],
      "execution_count": null,
      "outputs": [
        {
          "output_type": "execute_result",
          "data": {
            "text/html": [
              "<div>\n",
              "<style scoped>\n",
              "    .dataframe tbody tr th:only-of-type {\n",
              "        vertical-align: middle;\n",
              "    }\n",
              "\n",
              "    .dataframe tbody tr th {\n",
              "        vertical-align: top;\n",
              "    }\n",
              "\n",
              "    .dataframe thead th {\n",
              "        text-align: right;\n",
              "    }\n",
              "</style>\n",
              "<table border=\"1\" class=\"dataframe\">\n",
              "  <thead>\n",
              "    <tr style=\"text-align: right;\">\n",
              "      <th></th>\n",
              "      <th>Pais</th>\n",
              "      <th>Continente</th>\n",
              "      <th>Ano</th>\n",
              "      <th>Expectativa de vida</th>\n",
              "      <th>Pop total</th>\n",
              "      <th>PIB</th>\n",
              "      <th>Unnamed: 6</th>\n",
              "    </tr>\n",
              "  </thead>\n",
              "  <tbody>\n",
              "    <tr>\n",
              "      <th>3307</th>\n",
              "      <td>Zimbabwe</td>\n",
              "      <td>Africa</td>\n",
              "      <td>1987</td>\n",
              "      <td>62.351</td>\n",
              "      <td>9216418.0</td>\n",
              "      <td>706.157306</td>\n",
              "      <td>NaN</td>\n",
              "    </tr>\n",
              "    <tr>\n",
              "      <th>3308</th>\n",
              "      <td>Zimbabwe</td>\n",
              "      <td>Africa</td>\n",
              "      <td>1992</td>\n",
              "      <td>60377.000</td>\n",
              "      <td>10704340.0</td>\n",
              "      <td>693.420786</td>\n",
              "      <td>NaN</td>\n",
              "    </tr>\n",
              "    <tr>\n",
              "      <th>3309</th>\n",
              "      <td>Zimbabwe</td>\n",
              "      <td>Africa</td>\n",
              "      <td>1997</td>\n",
              "      <td>46809.000</td>\n",
              "      <td>11404948.0</td>\n",
              "      <td>792.449960</td>\n",
              "      <td>NaN</td>\n",
              "    </tr>\n",
              "    <tr>\n",
              "      <th>3310</th>\n",
              "      <td>Zimbabwe</td>\n",
              "      <td>Africa</td>\n",
              "      <td>2002</td>\n",
              "      <td>39989.000</td>\n",
              "      <td>11926563.0</td>\n",
              "      <td>672.038623</td>\n",
              "      <td>NaN</td>\n",
              "    </tr>\n",
              "    <tr>\n",
              "      <th>3311</th>\n",
              "      <td>Zimbabwe</td>\n",
              "      <td>Africa</td>\n",
              "      <td>2007</td>\n",
              "      <td>43487.000</td>\n",
              "      <td>12311143.0</td>\n",
              "      <td>469.709298</td>\n",
              "      <td>NaN</td>\n",
              "    </tr>\n",
              "  </tbody>\n",
              "</table>\n",
              "</div>"
            ],
            "text/plain": [
              "          Pais Continente   Ano  ...   Pop total         PIB  Unnamed: 6\n",
              "3307  Zimbabwe     Africa  1987  ...   9216418.0  706.157306         NaN\n",
              "3308  Zimbabwe     Africa  1992  ...  10704340.0  693.420786         NaN\n",
              "3309  Zimbabwe     Africa  1997  ...  11404948.0  792.449960         NaN\n",
              "3310  Zimbabwe     Africa  2002  ...  11926563.0  672.038623         NaN\n",
              "3311  Zimbabwe     Africa  2007  ...  12311143.0  469.709298         NaN\n",
              "\n",
              "[5 rows x 7 columns]"
            ]
          },
          "metadata": {
            "tags": []
          },
          "execution_count": 28
        }
      ]
    },
    {
      "cell_type": "code",
      "metadata": {
        "colab": {
          "base_uri": "https://localhost:8080/",
          "height": 514
        },
        "id": "_Xwb2YOwSRvg",
        "outputId": "d21b124a-b04e-4c52-8bb7-520b0df4ab61"
      },
      "source": [
        "df.tail(15)"
      ],
      "execution_count": null,
      "outputs": [
        {
          "output_type": "execute_result",
          "data": {
            "text/html": [
              "<div>\n",
              "<style scoped>\n",
              "    .dataframe tbody tr th:only-of-type {\n",
              "        vertical-align: middle;\n",
              "    }\n",
              "\n",
              "    .dataframe tbody tr th {\n",
              "        vertical-align: top;\n",
              "    }\n",
              "\n",
              "    .dataframe thead th {\n",
              "        text-align: right;\n",
              "    }\n",
              "</style>\n",
              "<table border=\"1\" class=\"dataframe\">\n",
              "  <thead>\n",
              "    <tr style=\"text-align: right;\">\n",
              "      <th></th>\n",
              "      <th>Pais</th>\n",
              "      <th>Continente</th>\n",
              "      <th>Ano</th>\n",
              "      <th>Expectativa de vida</th>\n",
              "      <th>Pop total</th>\n",
              "      <th>PIB</th>\n",
              "      <th>Unnamed: 6</th>\n",
              "    </tr>\n",
              "  </thead>\n",
              "  <tbody>\n",
              "    <tr>\n",
              "      <th>3297</th>\n",
              "      <td>Zambia</td>\n",
              "      <td>Africa</td>\n",
              "      <td>1997</td>\n",
              "      <td>40238.000</td>\n",
              "      <td>9417789.0</td>\n",
              "      <td>1071.353818</td>\n",
              "      <td>NaN</td>\n",
              "    </tr>\n",
              "    <tr>\n",
              "      <th>3298</th>\n",
              "      <td>Zambia</td>\n",
              "      <td>Africa</td>\n",
              "      <td>2002</td>\n",
              "      <td>39.193</td>\n",
              "      <td>10595811.0</td>\n",
              "      <td>1071.613938</td>\n",
              "      <td>NaN</td>\n",
              "    </tr>\n",
              "    <tr>\n",
              "      <th>3299</th>\n",
              "      <td>Zambia</td>\n",
              "      <td>Africa</td>\n",
              "      <td>2007</td>\n",
              "      <td>42.384</td>\n",
              "      <td>11746035.0</td>\n",
              "      <td>1271.211593</td>\n",
              "      <td>NaN</td>\n",
              "    </tr>\n",
              "    <tr>\n",
              "      <th>3300</th>\n",
              "      <td>Zimbabwe</td>\n",
              "      <td>Africa</td>\n",
              "      <td>1952</td>\n",
              "      <td>48451.000</td>\n",
              "      <td>3080907.0</td>\n",
              "      <td>406.884115</td>\n",
              "      <td>NaN</td>\n",
              "    </tr>\n",
              "    <tr>\n",
              "      <th>3301</th>\n",
              "      <td>Zimbabwe</td>\n",
              "      <td>Africa</td>\n",
              "      <td>1957</td>\n",
              "      <td>50469.000</td>\n",
              "      <td>3646340.0</td>\n",
              "      <td>518.764268</td>\n",
              "      <td>NaN</td>\n",
              "    </tr>\n",
              "    <tr>\n",
              "      <th>3302</th>\n",
              "      <td>Zimbabwe</td>\n",
              "      <td>Africa</td>\n",
              "      <td>1962</td>\n",
              "      <td>52358.000</td>\n",
              "      <td>4277736.0</td>\n",
              "      <td>527.272182</td>\n",
              "      <td>NaN</td>\n",
              "    </tr>\n",
              "    <tr>\n",
              "      <th>3303</th>\n",
              "      <td>Zimbabwe</td>\n",
              "      <td>Africa</td>\n",
              "      <td>1967</td>\n",
              "      <td>53995.000</td>\n",
              "      <td>4995432.0</td>\n",
              "      <td>569.795071</td>\n",
              "      <td>NaN</td>\n",
              "    </tr>\n",
              "    <tr>\n",
              "      <th>3304</th>\n",
              "      <td>Zimbabwe</td>\n",
              "      <td>Africa</td>\n",
              "      <td>1972</td>\n",
              "      <td>55635.000</td>\n",
              "      <td>5861135.0</td>\n",
              "      <td>799.362176</td>\n",
              "      <td>NaN</td>\n",
              "    </tr>\n",
              "    <tr>\n",
              "      <th>3305</th>\n",
              "      <td>Zimbabwe</td>\n",
              "      <td>Africa</td>\n",
              "      <td>1977</td>\n",
              "      <td>57674.000</td>\n",
              "      <td>6642107.0</td>\n",
              "      <td>685.587682</td>\n",
              "      <td>NaN</td>\n",
              "    </tr>\n",
              "    <tr>\n",
              "      <th>3306</th>\n",
              "      <td>Zimbabwe</td>\n",
              "      <td>Africa</td>\n",
              "      <td>1982</td>\n",
              "      <td>60363.000</td>\n",
              "      <td>7636524.0</td>\n",
              "      <td>788.855041</td>\n",
              "      <td>NaN</td>\n",
              "    </tr>\n",
              "    <tr>\n",
              "      <th>3307</th>\n",
              "      <td>Zimbabwe</td>\n",
              "      <td>Africa</td>\n",
              "      <td>1987</td>\n",
              "      <td>62.351</td>\n",
              "      <td>9216418.0</td>\n",
              "      <td>706.157306</td>\n",
              "      <td>NaN</td>\n",
              "    </tr>\n",
              "    <tr>\n",
              "      <th>3308</th>\n",
              "      <td>Zimbabwe</td>\n",
              "      <td>Africa</td>\n",
              "      <td>1992</td>\n",
              "      <td>60377.000</td>\n",
              "      <td>10704340.0</td>\n",
              "      <td>693.420786</td>\n",
              "      <td>NaN</td>\n",
              "    </tr>\n",
              "    <tr>\n",
              "      <th>3309</th>\n",
              "      <td>Zimbabwe</td>\n",
              "      <td>Africa</td>\n",
              "      <td>1997</td>\n",
              "      <td>46809.000</td>\n",
              "      <td>11404948.0</td>\n",
              "      <td>792.449960</td>\n",
              "      <td>NaN</td>\n",
              "    </tr>\n",
              "    <tr>\n",
              "      <th>3310</th>\n",
              "      <td>Zimbabwe</td>\n",
              "      <td>Africa</td>\n",
              "      <td>2002</td>\n",
              "      <td>39989.000</td>\n",
              "      <td>11926563.0</td>\n",
              "      <td>672.038623</td>\n",
              "      <td>NaN</td>\n",
              "    </tr>\n",
              "    <tr>\n",
              "      <th>3311</th>\n",
              "      <td>Zimbabwe</td>\n",
              "      <td>Africa</td>\n",
              "      <td>2007</td>\n",
              "      <td>43487.000</td>\n",
              "      <td>12311143.0</td>\n",
              "      <td>469.709298</td>\n",
              "      <td>NaN</td>\n",
              "    </tr>\n",
              "  </tbody>\n",
              "</table>\n",
              "</div>"
            ],
            "text/plain": [
              "          Pais Continente   Ano  ...   Pop total          PIB  Unnamed: 6\n",
              "3297    Zambia     Africa  1997  ...   9417789.0  1071.353818         NaN\n",
              "3298    Zambia     Africa  2002  ...  10595811.0  1071.613938         NaN\n",
              "3299    Zambia     Africa  2007  ...  11746035.0  1271.211593         NaN\n",
              "3300  Zimbabwe     Africa  1952  ...   3080907.0   406.884115         NaN\n",
              "3301  Zimbabwe     Africa  1957  ...   3646340.0   518.764268         NaN\n",
              "3302  Zimbabwe     Africa  1962  ...   4277736.0   527.272182         NaN\n",
              "3303  Zimbabwe     Africa  1967  ...   4995432.0   569.795071         NaN\n",
              "3304  Zimbabwe     Africa  1972  ...   5861135.0   799.362176         NaN\n",
              "3305  Zimbabwe     Africa  1977  ...   6642107.0   685.587682         NaN\n",
              "3306  Zimbabwe     Africa  1982  ...   7636524.0   788.855041         NaN\n",
              "3307  Zimbabwe     Africa  1987  ...   9216418.0   706.157306         NaN\n",
              "3308  Zimbabwe     Africa  1992  ...  10704340.0   693.420786         NaN\n",
              "3309  Zimbabwe     Africa  1997  ...  11404948.0   792.449960         NaN\n",
              "3310  Zimbabwe     Africa  2002  ...  11926563.0   672.038623         NaN\n",
              "3311  Zimbabwe     Africa  2007  ...  12311143.0   469.709298         NaN\n",
              "\n",
              "[15 rows x 7 columns]"
            ]
          },
          "metadata": {
            "tags": []
          },
          "execution_count": 29
        }
      ]
    },
    {
      "cell_type": "code",
      "metadata": {
        "colab": {
          "base_uri": "https://localhost:8080/",
          "height": 297
        },
        "id": "kTUAb03dVd8N",
        "outputId": "23953021-c15e-49ee-c9ff-bf8ce2e7f145"
      },
      "source": [
        "df.describe()"
      ],
      "execution_count": null,
      "outputs": [
        {
          "output_type": "execute_result",
          "data": {
            "text/html": [
              "<div>\n",
              "<style scoped>\n",
              "    .dataframe tbody tr th:only-of-type {\n",
              "        vertical-align: middle;\n",
              "    }\n",
              "\n",
              "    .dataframe tbody tr th {\n",
              "        vertical-align: top;\n",
              "    }\n",
              "\n",
              "    .dataframe thead th {\n",
              "        text-align: right;\n",
              "    }\n",
              "</style>\n",
              "<table border=\"1\" class=\"dataframe\">\n",
              "  <thead>\n",
              "    <tr style=\"text-align: right;\">\n",
              "      <th></th>\n",
              "      <th>Expectativa de vida</th>\n",
              "      <th>Pop total</th>\n",
              "      <th>PIB</th>\n",
              "      <th>Unnamed: 6</th>\n",
              "    </tr>\n",
              "  </thead>\n",
              "  <tbody>\n",
              "    <tr>\n",
              "      <th>count</th>\n",
              "      <td>3312.000000</td>\n",
              "      <td>3.312000e+03</td>\n",
              "      <td>3.312000e+03</td>\n",
              "      <td>88.000000</td>\n",
              "    </tr>\n",
              "    <tr>\n",
              "      <th>mean</th>\n",
              "      <td>20127.833066</td>\n",
              "      <td>3.124093e+07</td>\n",
              "      <td>4.594434e+05</td>\n",
              "      <td>6980.478500</td>\n",
              "    </tr>\n",
              "    <tr>\n",
              "      <th>std</th>\n",
              "      <td>28302.922892</td>\n",
              "      <td>1.041764e+08</td>\n",
              "      <td>3.957890e+06</td>\n",
              "      <td>9588.641633</td>\n",
              "    </tr>\n",
              "    <tr>\n",
              "      <th>min</th>\n",
              "      <td>30.000000</td>\n",
              "      <td>3.397000e+01</td>\n",
              "      <td>2.988462e+02</td>\n",
              "      <td>241.165877</td>\n",
              "    </tr>\n",
              "    <tr>\n",
              "      <th>25%</th>\n",
              "      <td>70.417500</td>\n",
              "      <td>2.423614e+06</td>\n",
              "      <td>2.678379e+03</td>\n",
              "      <td>1587.582774</td>\n",
              "    </tr>\n",
              "    <tr>\n",
              "      <th>50%</th>\n",
              "      <td>75.970000</td>\n",
              "      <td>7.276883e+06</td>\n",
              "      <td>8.435385e+03</td>\n",
              "      <td>3484.113173</td>\n",
              "    </tr>\n",
              "    <tr>\n",
              "      <th>75%</th>\n",
              "      <td>48297.000000</td>\n",
              "      <td>1.827995e+07</td>\n",
              "      <td>1.862129e+04</td>\n",
              "      <td>5794.438345</td>\n",
              "    </tr>\n",
              "    <tr>\n",
              "      <th>max</th>\n",
              "      <td>82603.000000</td>\n",
              "      <td>1.318683e+09</td>\n",
              "      <td>1.093479e+08</td>\n",
              "      <td>54589.820240</td>\n",
              "    </tr>\n",
              "  </tbody>\n",
              "</table>\n",
              "</div>"
            ],
            "text/plain": [
              "       Expectativa de vida     Pop total           PIB    Unnamed: 6\n",
              "count          3312.000000  3.312000e+03  3.312000e+03     88.000000\n",
              "mean          20127.833066  3.124093e+07  4.594434e+05   6980.478500\n",
              "std           28302.922892  1.041764e+08  3.957890e+06   9588.641633\n",
              "min              30.000000  3.397000e+01  2.988462e+02    241.165877\n",
              "25%              70.417500  2.423614e+06  2.678379e+03   1587.582774\n",
              "50%              75.970000  7.276883e+06  8.435385e+03   3484.113173\n",
              "75%           48297.000000  1.827995e+07  1.862129e+04   5794.438345\n",
              "max           82603.000000  1.318683e+09  1.093479e+08  54589.820240"
            ]
          },
          "metadata": {
            "tags": []
          },
          "execution_count": 31
        }
      ]
    },
    {
      "cell_type": "code",
      "metadata": {
        "colab": {
          "base_uri": "https://localhost:8080/"
        },
        "id": "ID4QtHPyVhBn",
        "outputId": "4d8e970e-f2c5-4f44-80f0-5fdf46060dc0"
      },
      "source": [
        "df[\"Continente\"].unique()"
      ],
      "execution_count": null,
      "outputs": [
        {
          "output_type": "execute_result",
          "data": {
            "text/plain": [
              "array(['Asia', 'Europe', 'Africa', 'Americas', nan, 'FSU', ' Dem. Rep.',\n",
              "       ' Rep.', 'Oceania', ' China', ' Fed. Sts.'], dtype=object)"
            ]
          },
          "metadata": {
            "tags": []
          },
          "execution_count": 33
        }
      ]
    },
    {
      "cell_type": "code",
      "metadata": {
        "colab": {
          "base_uri": "https://localhost:8080/",
          "height": 204
        },
        "id": "yDD138zBWRf5",
        "outputId": "79668be8-2371-4adf-e3c4-f19a6463dcff"
      },
      "source": [
        "Oceania = df.loc[df[\"Continente\"] == \"Oceania\"]\n",
        "Oceania.head()"
      ],
      "execution_count": null,
      "outputs": [
        {
          "output_type": "execute_result",
          "data": {
            "text/html": [
              "<div>\n",
              "<style scoped>\n",
              "    .dataframe tbody tr th:only-of-type {\n",
              "        vertical-align: middle;\n",
              "    }\n",
              "\n",
              "    .dataframe tbody tr th {\n",
              "        vertical-align: top;\n",
              "    }\n",
              "\n",
              "    .dataframe thead th {\n",
              "        text-align: right;\n",
              "    }\n",
              "</style>\n",
              "<table border=\"1\" class=\"dataframe\">\n",
              "  <thead>\n",
              "    <tr style=\"text-align: right;\">\n",
              "      <th></th>\n",
              "      <th>Pais</th>\n",
              "      <th>Continente</th>\n",
              "      <th>Ano</th>\n",
              "      <th>Expectativa de vida</th>\n",
              "      <th>Pop total</th>\n",
              "      <th>PIB</th>\n",
              "      <th>Unnamed: 6</th>\n",
              "    </tr>\n",
              "  </thead>\n",
              "  <tbody>\n",
              "    <tr>\n",
              "      <th>975</th>\n",
              "      <td>Fiji</td>\n",
              "      <td>Oceania</td>\n",
              "      <td>1962</td>\n",
              "      <td>56494.0</td>\n",
              "      <td>421869.0</td>\n",
              "      <td>2039.393277</td>\n",
              "      <td>NaN</td>\n",
              "    </tr>\n",
              "    <tr>\n",
              "      <th>976</th>\n",
              "      <td>Fiji</td>\n",
              "      <td>Oceania</td>\n",
              "      <td>1967</td>\n",
              "      <td>58607.0</td>\n",
              "      <td>485000.0</td>\n",
              "      <td>2170.073285</td>\n",
              "      <td>NaN</td>\n",
              "    </tr>\n",
              "    <tr>\n",
              "      <th>977</th>\n",
              "      <td>Fiji</td>\n",
              "      <td>Oceania</td>\n",
              "      <td>1972</td>\n",
              "      <td>60642.0</td>\n",
              "      <td>544000.0</td>\n",
              "      <td>2797.759484</td>\n",
              "      <td>NaN</td>\n",
              "    </tr>\n",
              "    <tr>\n",
              "      <th>978</th>\n",
              "      <td>Fiji</td>\n",
              "      <td>Oceania</td>\n",
              "      <td>1977</td>\n",
              "      <td>62669.0</td>\n",
              "      <td>599339.0</td>\n",
              "      <td>3182.569600</td>\n",
              "      <td>NaN</td>\n",
              "    </tr>\n",
              "    <tr>\n",
              "      <th>979</th>\n",
              "      <td>Fiji</td>\n",
              "      <td>Oceania</td>\n",
              "      <td>1982</td>\n",
              "      <td>64683.0</td>\n",
              "      <td>658906.0</td>\n",
              "      <td>3209.257468</td>\n",
              "      <td>NaN</td>\n",
              "    </tr>\n",
              "  </tbody>\n",
              "</table>\n",
              "</div>"
            ],
            "text/plain": [
              "     Pais Continente   Ano  ...  Pop total          PIB  Unnamed: 6\n",
              "975  Fiji    Oceania  1962  ...   421869.0  2039.393277         NaN\n",
              "976  Fiji    Oceania  1967  ...   485000.0  2170.073285         NaN\n",
              "977  Fiji    Oceania  1972  ...   544000.0  2797.759484         NaN\n",
              "978  Fiji    Oceania  1977  ...   599339.0  3182.569600         NaN\n",
              "979  Fiji    Oceania  1982  ...   658906.0  3209.257468         NaN\n",
              "\n",
              "[5 rows x 7 columns]"
            ]
          },
          "metadata": {
            "tags": []
          },
          "execution_count": 34
        }
      ]
    },
    {
      "cell_type": "code",
      "metadata": {
        "colab": {
          "base_uri": "https://localhost:8080/"
        },
        "id": "8M94xNE_WMzh",
        "outputId": "87fffbf2-ccf7-483f-c0fc-6d1dea8d1a2e"
      },
      "source": [
        "Oceania[\"Continente\"].unique()"
      ],
      "execution_count": null,
      "outputs": [
        {
          "output_type": "execute_result",
          "data": {
            "text/plain": [
              "array(['Oceania'], dtype=object)"
            ]
          },
          "metadata": {
            "tags": []
          },
          "execution_count": 35
        }
      ]
    },
    {
      "cell_type": "code",
      "metadata": {
        "colab": {
          "base_uri": "https://localhost:8080/"
        },
        "id": "AuyxhRP4W0fA",
        "outputId": "a19657f0-5c84-4970-9471-b518ead660a8"
      },
      "source": [
        "df.groupby('Continente')[\"Pais\"].nunique()"
      ],
      "execution_count": null,
      "outputs": [
        {
          "output_type": "execute_result",
          "data": {
            "text/plain": [
              "Continente\n",
              " China         2\n",
              " Dem. Rep.     2\n",
              " Fed. Sts.     1\n",
              " Rep.          3\n",
              "Africa        49\n",
              "Americas      25\n",
              "Asia          37\n",
              "Europe        35\n",
              "FSU            6\n",
              "Oceania        3\n",
              "Name: Pais, dtype: int64"
            ]
          },
          "metadata": {
            "tags": []
          },
          "execution_count": 37
        }
      ]
    },
    {
      "cell_type": "code",
      "metadata": {
        "colab": {
          "base_uri": "https://localhost:8080/"
        },
        "id": "WFYtekC2dnzE",
        "outputId": "7bf36ccf-845a-49a6-f4b8-146c351739fb"
      },
      "source": [
        "df.groupby(\"Ano\")[\"Expectativa de vida\"].mean()"
      ],
      "execution_count": null,
      "outputs": [
        {
          "output_type": "execute_result",
          "data": {
            "text/plain": [
              "Ano\n",
              "1950       4060.820261\n",
              "1951         65.904167\n",
              "1952      25703.329934\n",
              "1953         66.674563\n",
              "1954         67.459817\n",
              "1955         67.806757\n",
              "1956         67.950637\n",
              "1957      25312.983869\n",
              "1958         68.815936\n",
              "1959         68.226579\n",
              "1960         68.470837\n",
              "1961         68.862480\n",
              "1962      27290.088437\n",
              "1963         69.595735\n",
              "1964         70.063105\n",
              "1965         70.259881\n",
              "1966         70.447526\n",
              "1967      30601.746641\n",
              "1968         70.689081\n",
              "1969         70.653896\n",
              "1970         70.961141\n",
              "1971         71.103976\n",
              "1972      29008.491968\n",
              "1973         71.500338\n",
              "1974         71.778504\n",
              "1975         71.939218\n",
              "1976         72.158050\n",
              "1977      29279.507002\n",
              "1978         72.717567\n",
              "1979         73.018717\n",
              "1980         73.064524\n",
              "1981         73.337399\n",
              "1982      34882.598503\n",
              "1983         73.787778\n",
              "1984         74.100741\n",
              "1985         74.112222\n",
              "1986         74.452222\n",
              "1987      33905.051577\n",
              "1988         74.760000\n",
              "1989         74.924444\n",
              "1990         74.283437\n",
              "1991         74.374848\n",
              "1992      35947.501006\n",
              "1993         74.324545\n",
              "1994         74.456667\n",
              "1995         74.552727\n",
              "1996         75.029394\n",
              "1997      39883.874960\n",
              "1998         75.569697\n",
              "1999         75.703636\n",
              "2000         76.026364\n",
              "2001         76.257879\n",
              "2002      40732.278642\n",
              "2003         76.586667\n",
              "2004         76.921563\n",
              "2005         76.718667\n",
              "2006         77.887778\n",
              "2007      53996.851806\n",
              "Africa     1979.500000\n",
              "Asia       1981.318182\n",
              "Name: Expectativa de vida, dtype: float64"
            ]
          },
          "metadata": {
            "tags": []
          },
          "execution_count": 38
        }
      ]
    },
    {
      "cell_type": "code",
      "metadata": {
        "colab": {
          "base_uri": "https://localhost:8080/"
        },
        "id": "0QcNG8FEeHqp",
        "outputId": "679ee041-6645-4bc6-e54b-af4e85450490"
      },
      "source": [
        "df[\"PIB\"].mean()"
      ],
      "execution_count": null,
      "outputs": [
        {
          "output_type": "execute_result",
          "data": {
            "text/plain": [
              "459443.3528140468"
            ]
          },
          "metadata": {
            "tags": []
          },
          "execution_count": 40
        }
      ]
    },
    {
      "cell_type": "code",
      "metadata": {
        "colab": {
          "base_uri": "https://localhost:8080/"
        },
        "id": "Z3O8NzBeeSEq",
        "outputId": "94f75cc8-1e83-4574-84c2-38b3f5b70bb1"
      },
      "source": [
        "df[\"PIB\"].sum()"
      ],
      "execution_count": null,
      "outputs": [
        {
          "output_type": "execute_result",
          "data": {
            "text/plain": [
              "1521676384.5201242"
            ]
          },
          "metadata": {
            "tags": []
          },
          "execution_count": 41
        }
      ]
    },
    {
      "cell_type": "code",
      "metadata": {
        "id": "NDcvmmouebdA"
      },
      "source": [
        ""
      ],
      "execution_count": null,
      "outputs": []
    }
  ]
}